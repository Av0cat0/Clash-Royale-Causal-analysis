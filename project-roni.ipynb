{
 "cells": [
  {
   "cell_type": "code",
   "execution_count": 1,
   "metadata": {},
   "outputs": [],
   "source": [
    "%reload_ext autoreload\n",
    "%autoreload 2\n",
    "\n",
    "import projcore as pc\n",
    "import pandas as pd\n",
    "import matplotlib.pyplot as plt\n",
    "\n",
    "pd.set_option('display.max_columns', None)"
   ]
  },
  {
   "cell_type": "code",
   "execution_count": 17,
   "metadata": {},
   "outputs": [
    {
     "name": "stdout",
     "output_type": "stream",
     "text": [
      "File BattlesStaging_01012021_WL_tagged/BattlesStaging_01012021_WL_tagged.csv already exists, skipping download\n",
      "File CardMasterListSeason18_12082020.csv already exists, skipping download\n",
      "File Wincons.csv already exists, skipping download\n",
      "clash-royal-data.csv already exists, skipping download\n"
     ]
    }
   ],
   "source": [
    "pc.download_kaggle_datasets()\n",
    "battles_df = pd.read_csv('BattlesStaging_01012021_WL_tagged.csv')\n",
    "card_list_df = pd.read_csv('CardMasterListSeason18_12082020.csv')\n",
    "winning_card_list_df = pd.read_csv('Wincons.csv')"
   ]
  },
  {
   "cell_type": "code",
   "execution_count": 19,
   "metadata": {},
   "outputs": [],
   "source": [
    "battles_df = pc.feature_preprocessing(battles_df, winning_card_list_df)\n",
    "battles_df.head(100).to_csv(\"battles_subset.csv\", index=False)"
   ]
  },
  {
   "cell_type": "code",
   "execution_count": 20,
   "metadata": {},
   "outputs": [
    {
     "name": "stdout",
     "output_type": "stream",
     "text": [
      "                                NaN Count\n",
      "winner.tag                         110417\n",
      "winner.princessTowersHitPoints    2823527\n",
      "winner.clan.tag                    299772\n",
      "winner.clan.badgeId                115868\n",
      "loser.tag                          112345\n",
      "loser.kingTowerHitPoints           784262\n",
      "loser.clan.tag                     331196\n",
      "loser.clan.badgeId                 150098\n",
      "loser.princessTowersHitPoints     2823527\n",
      "winner_trophy_eff                       2\n",
      "loser_trophy_eff                        3\n",
      "winner_spell_troop_ratio              182\n",
      "loser_spell_troop_ratio              2297\n",
      "princess_tower_gap                2823527\n",
      "winner_count                       110417\n",
      "loser_count                        112345\n",
      "total_games                        218068\n",
      "win_lose_ratio                     218068\n",
      "synergy_score                         182\n",
      "winner_deck_final_score               182\n"
     ]
    }
   ],
   "source": [
    "nan_counts_df = battles_df.isna().sum().to_frame(name=\"NaN Count\")\n",
    "pd.set_option(\"display.max_rows\", None)\n",
    "print(nan_counts_df[nan_counts_df['NaN Count']>0])"
   ]
  },
  {
   "cell_type": "code",
   "execution_count": 22,
   "metadata": {},
   "outputs": [
    {
     "name": "stdout",
     "output_type": "stream",
     "text": [
      "                                                                                0\n",
      "Unnamed: 0                                                                      0\n",
      "battleTime                                              2020-12-31 21:02:12+00:00\n",
      "arena.id                                                               54000050.0\n",
      "gameMode.id                                                            72000006.0\n",
      "average.startingTrophies                                                   5363.0\n",
      "winner.tag                                                              #PVLPJP2Y\n",
      "winner.startingTrophies                                                    5372.0\n",
      "winner.trophyChange                                                          28.0\n",
      "winner.crowns                                                                 2.0\n",
      "winner.kingTowerHitPoints                                                  4145.0\n",
      "winner.princessTowersHitPoints                                             [1484]\n",
      "winner.clan.tag                                                         #2PYV00GQ\n",
      "winner.clan.badgeId                                                    16000030.0\n",
      "loser.tag                                                              #PLYJVUQY2\n",
      "loser.startingTrophies                                                     5354.0\n",
      "loser.trophyChange                                                          -28.0\n",
      "loser.crowns                                                                  1.0\n",
      "loser.kingTowerHitPoints                                                   1402.0\n",
      "loser.clan.tag                                                          #8G2QJ9Y2\n",
      "loser.clan.badgeId                                                     16000044.0\n",
      "loser.princessTowersHitPoints                                                 NaN\n",
      "tournamentTag                                                                 NaN\n",
      "winner.card1.id                                                          26000008\n",
      "winner.card1.level                                                             13\n",
      "winner.card2.id                                                          26000022\n",
      "winner.card2.level                                                             13\n",
      "winner.card3.id                                                          28000001\n",
      "winner.card3.level                                                             13\n",
      "winner.card4.id                                                          26000004\n",
      "winner.card4.level                                                             13\n",
      "winner.card5.id                                                          26000003\n",
      "winner.card5.level                                                             13\n",
      "winner.card6.id                                                          27000004\n",
      "winner.card6.level                                                             13\n",
      "winner.card7.id                                                          28000002\n",
      "winner.card7.level                                                             13\n",
      "winner.card8.id                                                          26000006\n",
      "winner.card8.level                                                             13\n",
      "winner.cards.list               [26000003, 26000004, 26000006, 26000008, 26000...\n",
      "winner.totalcard.level                                                        104\n",
      "winner.troop.count                                                              5\n",
      "winner.structure.count                                                          1\n",
      "winner.spell.count                                                              2\n",
      "winner.common.count                                                             3\n",
      "winner.rare.count                                                               2\n",
      "winner.epic.count                                                               3\n",
      "winner.legendary.count                                                          0\n",
      "winner.elixir.average                                                         4.5\n",
      "loser.card1.id                                                           27000004\n",
      "loser.card1.level                                                              13\n",
      "loser.card2.id                                                           26000015\n",
      "loser.card2.level                                                              13\n",
      "loser.card3.id                                                           28000010\n",
      "loser.card3.level                                                              13\n",
      "loser.card4.id                                                           28000009\n",
      "loser.card4.level                                                              13\n",
      "loser.card5.id                                                           28000012\n",
      "loser.card5.level                                                              13\n",
      "loser.card6.id                                                           26000023\n",
      "loser.card6.level                                                              13\n",
      "loser.card7.id                                                           26000000\n",
      "loser.card7.level                                                              13\n",
      "loser.card8.id                                                           28000015\n",
      "loser.card8.level                                                              13\n",
      "loser.cards.list                [26000000, 26000015, 26000023, 27000004, 28000...\n",
      "loser.totalcard.level                                                         104\n",
      "loser.troop.count                                                               3\n",
      "loser.structure.count                                                           1\n",
      "loser.spell.count                                                               4\n",
      "loser.common.count                                                              1\n",
      "loser.rare.count                                                                1\n",
      "loser.epic.count                                                                4\n",
      "loser.legendary.count                                                           2\n",
      "loser.elixir.average                                                          3.5\n"
     ]
    }
   ],
   "source": [
    "print(pd.read_csv('BattlesStaging_01012021_WL_tagged.csv').head(1).T)"
   ]
  }
 ],
 "metadata": {
  "kernelspec": {
   "display_name": "Python 3",
   "language": "python",
   "name": "python3"
  },
  "language_info": {
   "codemirror_mode": {
    "name": "ipython",
    "version": 3
   },
   "file_extension": ".py",
   "mimetype": "text/x-python",
   "name": "python",
   "nbconvert_exporter": "python",
   "pygments_lexer": "ipython3",
   "version": "3.9.6"
  }
 },
 "nbformat": 4,
 "nbformat_minor": 2
}
