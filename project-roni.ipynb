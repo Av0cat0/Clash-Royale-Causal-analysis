{
 "cells": [
  {
   "cell_type": "code",
   "execution_count": 1,
   "metadata": {},
   "outputs": [],
   "source": [
    "%reload_ext autoreload\n",
    "%autoreload 2\n",
    "\n",
    "import projcore as pc\n",
    "import pandas as pd\n",
    "import matplotlib.pyplot as plt\n",
    "\n",
    "pd.set_option('display.max_columns', None)"
   ]
  },
  {
   "cell_type": "code",
   "execution_count": 10,
   "metadata": {},
   "outputs": [
    {
     "name": "stdout",
     "output_type": "stream",
     "text": [
      "File BattlesStaging_01012021_WL_tagged/BattlesStaging_01012021_WL_tagged.csv already exists, skipping download\n",
      "File CardMasterListSeason18_12082020.csv already exists, skipping download\n",
      "File Wincons.csv already exists, skipping download\n",
      "clash-royal-data.csv already exists, skipping download\n"
     ]
    }
   ],
   "source": [
    "pc.download_kaggle_datasets()\n",
    "battles_df = pd.read_csv('BattlesStaging_01012021_WL_tagged.csv')\n",
    "card_list_df = pd.read_csv('CardMasterListSeason18_12082020.csv')\n",
    "winning_card_list_df = pd.read_csv('Wincons.csv')"
   ]
  },
  {
   "cell_type": "code",
   "execution_count": 11,
   "metadata": {},
   "outputs": [],
   "source": [
    "battles_df = pc.feature_preprocessing(battles_df, winning_card_list_df)\n",
    "battles_df.head(100).to_csv(\"battles_subset.csv\", index=False)"
   ]
  }
 ],
 "metadata": {
  "kernelspec": {
   "display_name": "Python 3",
   "language": "python",
   "name": "python3"
  },
  "language_info": {
   "codemirror_mode": {
    "name": "ipython",
    "version": 3
   },
   "file_extension": ".py",
   "mimetype": "text/x-python",
   "name": "python",
   "nbconvert_exporter": "python",
   "pygments_lexer": "ipython3",
   "version": "3.9.6"
  }
 },
 "nbformat": 4,
 "nbformat_minor": 2
}
